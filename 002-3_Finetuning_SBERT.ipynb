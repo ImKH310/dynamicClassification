{
 "cells": [
  {
   "cell_type": "code",
   "execution_count": null,
   "id": "5f932c5d",
   "metadata": {},
   "outputs": [],
   "source": [
    "import os \n",
    "\n",
    "\n",
    "os.environ[\"CUDA_VISIBLE_DEVICES\"]= \"1,2,3\"  "
   ]
  },
  {
   "cell_type": "code",
   "execution_count": null,
   "id": "83bdbfc8",
   "metadata": {},
   "outputs": [],
   "source": [
    "import math\n",
    "import logging\n",
    "from datetime import datetime\n",
    "\n",
    "import pandas as pd\n",
    "import numpy as np\n",
    "import torch\n",
    "from torch.utils.data import DataLoader\n",
    "from datasets import load_dataset\n",
    "from sentence_transformers import SentenceTransformer, models, LoggingHandler, losses, util\n",
    "from sentence_transformers.evaluation import EmbeddingSimilarityEvaluator\n",
    "from sentence_transformers.readers import InputExample\n",
    "\n",
    "# logger\n",
    "logging.basicConfig(\n",
    "    format=\"%(asctime)s - %(message)s\",\n",
    "    datefmt=\"%Y-%m-%d %H:%M:%S\",\n",
    "    level=logging.INFO,\n",
    "    handlers=[LoggingHandler()],\n",
    ")"
   ]
  },
  {
   "cell_type": "code",
   "execution_count": null,
   "id": "433a1547",
   "metadata": {},
   "outputs": [],
   "source": [
    "pretrained_model_name = 'klue/roberta-large'\n",
    "sts_num_epochs = 4\n",
    "train_batch_size = 32\n",
    "\n",
    "sts_model_save_path = 'output/training_sts-'+pretrained_model_name.replace(\"/\", \"-\")+'-'+datetime.now().strftime(\"%Y-%m-%d_%H-%M-%S\")"
   ]
  },
  {
   "cell_type": "code",
   "execution_count": null,
   "id": "e11eaa1e",
   "metadata": {
    "scrolled": true
   },
   "outputs": [],
   "source": [
    "\n",
    "openfile = pd.read_excel('STS_dataset file  *.xlsx')\n",
    "openfile"
   ]
  },
  {
   "cell_type": "code",
   "execution_count": null,
   "id": "24de92b4",
   "metadata": {},
   "outputs": [],
   "source": [
    "def make_sts_input_example(openfile):\n",
    "    ''' \n",
    "    Transform to InputExample\n",
    "    ''' \n",
    "    total = openfile.shape[0]\n",
    "\n",
    "    train_num = round(total*0.8)\n",
    "    val_num = round(total*0.15)\n",
    "    test_num = total-train_num-val_num\n",
    "\n",
    "    train_examples = []\n",
    "    print('train range:',train_num)\n",
    "    for i in range(0, train_num):\n",
    "        sentence1 = openfile.iloc[i]['s1']\n",
    "        sentence2 = openfile.iloc[i]['s2']\n",
    "        score = openfile.iloc[i]['cosSim']\n",
    "        train_examples .append(InputExample(texts=[sentence1, sentence2], label=np.float32(score)))\n",
    "        \n",
    "    val_examples = []\n",
    "    print('val range:', train_num+1, train_num+val_num)\n",
    "    for i in range(train_num+1, train_num+val_num):\n",
    "        sentence1 = openfile.iloc[i]['s1']\n",
    "        sentence2 = openfile.iloc[i]['s2']\n",
    "        score = openfile.iloc[i]['cosSim']\n",
    "        val_examples .append(InputExample(texts=[sentence1, sentence2], label=np.float32(score)))\n",
    "        \n",
    "    test_examples = []\n",
    "    print('test range:', train_num+val_num+1, total)\n",
    "    for i in range(train_num+val_num+1, total):\n",
    "        sentence1 = openfile.iloc[i]['s1']\n",
    "        sentence2 = openfile.iloc[i]['s2']\n",
    "        score = openfile.iloc[i]['cosSim']\n",
    "        test_examples .append(InputExample(texts=[sentence1, sentence2], label=np.float32(score)))\n",
    "\n",
    "    return train_examples, val_examples, test_examples\n",
    "\n"
   ]
  },
  {
   "cell_type": "code",
   "execution_count": null,
   "id": "363c9149",
   "metadata": {},
   "outputs": [],
   "source": [
    "train_examples, val_examples, test_examples = make_sts_input_example(openfile)\n"
   ]
  },
  {
   "cell_type": "code",
   "execution_count": null,
   "id": "ea70ca82",
   "metadata": {},
   "outputs": [],
   "source": [
    "# Train Dataloader\n",
    "train_dataloader = DataLoader(\n",
    "    train_examples,\n",
    "    shuffle=True,\n",
    "    batch_size=train_batch_size,\n",
    ")\n",
    "\n",
    "# Evaluator by sts-validation\n",
    "dev_evaluator = EmbeddingSimilarityEvaluator.from_input_examples(\n",
    "    val_examples,\n",
    "    name=\"sts-dev\",\n",
    ")\n",
    "\n",
    "# Evaluator by sts-test\n",
    "test_evaluator = EmbeddingSimilarityEvaluator.from_input_examples(\n",
    "    test_examples,\n",
    "    name=\"sts-test\",\n",
    ")"
   ]
  },
  {
   "cell_type": "markdown",
   "id": "7aba20eb",
   "metadata": {},
   "source": [
    "### 2. Load Embedding Model "
   ]
  },
  {
   "cell_type": "code",
   "execution_count": null,
   "id": "9c5bffdc",
   "metadata": {},
   "outputs": [],
   "source": [
    "# Load Embedding Model\n",
    "embedding_model = models.Transformer(\n",
    "    model_name_or_path=pretrained_model_name, \n",
    "    max_seq_length=256,\n",
    "    do_lower_case=True\n",
    ")\n",
    "\n",
    "# Only use Mean Pooling -> Pooling all token embedding vectors of sentence.\n",
    "pooling_model = models.Pooling(\n",
    "    embedding_model.get_word_embedding_dimension(),\n",
    "    pooling_mode_mean_tokens=True,\n",
    "    pooling_mode_cls_token=False,\n",
    "    pooling_mode_max_tokens=False,\n",
    ")\n",
    "\n",
    "model = SentenceTransformer(modules=[embedding_model, pooling_model])"
   ]
  },
  {
   "cell_type": "markdown",
   "id": "cdc3ba07",
   "metadata": {},
   "source": [
    "### 3. STS Training"
   ]
  },
  {
   "cell_type": "code",
   "execution_count": null,
   "id": "7d6a4914",
   "metadata": {
    "scrolled": false
   },
   "outputs": [],
   "source": [
    "# Use CosineSimilarityLoss\n",
    "train_loss = losses.CosineSimilarityLoss(model=model)\n",
    "\n",
    "# warmup steps\n",
    "warmup_steps = math.ceil(len(train_examples) * sts_num_epochs / train_batch_size * 0.1) #10% of train data for warm-up\n",
    "logging.info(\"Warmup-steps: {}\".format(warmup_steps))\n",
    "\n",
    "# Training\n",
    "model.fit(\n",
    "    train_objectives=[(train_dataloader, train_loss)],\n",
    "    evaluator=dev_evaluator,\n",
    "    epochs=sts_num_epochs,\n",
    "    evaluation_steps=int(len(train_dataloader)*0.1),\n",
    "    warmup_steps=warmup_steps,\n",
    "    output_path=sts_model_save_path\n",
    ")"
   ]
  },
  {
   "cell_type": "code",
   "execution_count": null,
   "id": "6b21c401",
   "metadata": {},
   "outputs": [],
   "source": [
    "# evaluation sts-test\n",
    "test_evaluator(model, output_path=sts_model_save_path)"
   ]
  },
  {
   "cell_type": "code",
   "execution_count": null,
   "id": "605c4739",
   "metadata": {},
   "outputs": [],
   "source": [
    "\n",
    "import pickle \n",
    "\n",
    "with open('klue_large_stsfinetune.pickle', 'wb') as pkl:\n",
    "    pickle.dump(model, pkl)"
   ]
  },
  {
   "cell_type": "code",
   "execution_count": null,
   "id": "6538e0db",
   "metadata": {},
   "outputs": [],
   "source": []
  }
 ],
 "metadata": {
  "kernelspec": {
   "display_name": "Python 3 (ipykernel)",
   "language": "python",
   "name": "python3"
  },
  "language_info": {
   "codemirror_mode": {
    "name": "ipython",
    "version": 3
   },
   "file_extension": ".py",
   "mimetype": "text/x-python",
   "name": "python",
   "nbconvert_exporter": "python",
   "pygments_lexer": "ipython3",
   "version": "3.8.0"
  }
 },
 "nbformat": 4,
 "nbformat_minor": 5
}
